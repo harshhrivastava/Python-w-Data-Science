{
 "cells": [
  {
   "cell_type": "markdown",
   "metadata": {},
   "source": [
    "### Analysis in Python\n",
    "\n",
    "For analysis, we need to know the following:\n",
    "- Reading A File\n",
    "- Viewing Data\n",
    "- Changing Pandas settings\n",
    "- Row and Column Operations\n",
    "    - Selection\n",
    "    - Add\n",
    "    - Remove\n",
    "    - Changes\n",
    "- Cleaning Data\n",
    "    - Handling Missing Values\n",
    "    - Dropping Duplicates\n",
    "    - Removing Unwanted Data\n",
    "    - Renaming Columns\n",
    "    - Changing Data Types\n",
    "    - Handling Outliers\n",
    "- Analysis\n",
    "    - Descriptive Statistics\n",
    "    - Group By\n",
    "    - Pivot Table\n",
    "    - Correlation\n",
    "- Visualization\n",
    "    - Univariate\n",
    "    - Bivariate\n",
    "    - Multivariate\n",
    "    - Geospatial\n",
    "- Saving Data"
   ]
  },
  {
   "cell_type": "code",
   "execution_count": 36,
   "metadata": {},
   "outputs": [],
   "source": [
    "import numpy as np\n",
    "import pandas as pd\n",
    "import plotly.express as px\n",
    "import plotly.graph_objects as go\n",
    "\n",
    "# We can read files using pandas. Pandas can read csv, excel, json, sql, etc.\n",
    "# If it happens that while reading it throws a UnicodeDecodeError, try adding encoding='utf-8'\n",
    "# Single column is called series whereas multiple columns are called dataframe\n",
    "blood_transfusion_dataframe = pd.read_csv('blood_transfusion.csv', encoding='utf-8')\n",
    "\n",
    "np_blood_transfusion_dataframe_array = np.array(blood_transfusion_dataframe)\n",
    "\n",
    "# We can create a dataframe simply using the DataFrame function in pandas\n",
    "# We need to pass in a dictionary with the column names as keys and the values as lists\n",
    "# The length of all the lists should be the same otherwise it will throw an error\n",
    "sample_data_for_dataframe = {\n",
    "    'age' : [1, 2, 3, 4, 5],\n",
    "    'name' : ['a', 'b', 'c', 'd', 'e'],\n",
    "    'height' : [10, 20, 30, 40, 50],\n",
    "}\n",
    "dataframe_from_sample_data = pd.DataFrame(sample_data_for_dataframe)\n"
   ]
  }
 ],
 "metadata": {
  "kernelspec": {
   "display_name": "base",
   "language": "python",
   "name": "python3"
  },
  "language_info": {
   "codemirror_mode": {
    "name": "ipython",
    "version": 3
   },
   "file_extension": ".py",
   "mimetype": "text/x-python",
   "name": "python",
   "nbconvert_exporter": "python",
   "pygments_lexer": "ipython3",
   "version": "3.11.5"
  }
 },
 "nbformat": 4,
 "nbformat_minor": 2
}
