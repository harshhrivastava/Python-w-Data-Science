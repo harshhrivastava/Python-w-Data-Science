{
 "cells": [
  {
   "cell_type": "markdown",
   "metadata": {},
   "source": [
    "### Dictionaries in Python\n",
    "\n",
    "We will be learning the following operations which can be performed on dictionaries:\n",
    "- create\n",
    "- access\n",
    "- change\n",
    "- methods"
   ]
  },
  {
   "cell_type": "code",
   "execution_count": null,
   "metadata": {},
   "outputs": [],
   "source": [
    "# We can create a dictionary using the `dict` keyword.\n",
    "# It is used to structure a data and make it meaningful.\n",
    "data = {\n",
    "    \"temp\" : 33,\n",
    "    \"humidity\" : 100,\n",
    "    \"weather\" : \"Sunny\",\n",
    "    \"wind\": 6,\n",
    "    \"location\": \"lucknow\",\n",
    "}\n",
    "\n",
    "print(data)\n",
    "\n",
    "# If we want to access any particular information from the dictionary,\n",
    "# we need to pass the key of the same and it will return the corresponding value.\n",
    "print(data[\"location\"])\n",
    "\n",
    "# We can even create nested dictionaries\n",
    "products = {\n",
    "    \"fruits\": [\n",
    "        {\"name\": \"apple\",\"qty\": 10},\n",
    "        {\"name\": \"banana\",\"qty\": 50},\n",
    "        {\"name\": \"cherry\",\"qty\": 25},\n",
    "    ],\n",
    "    \"vegetables\": [\n",
    "        {\"name\": \"potato\",\"qty\": 100},\n",
    "        {\"name\": \"tomato\",\"qty\": 50},\n",
    "        {\"name\": \"onion\",\"qty\": 50},\n",
    "    ],\n",
    "}\n",
    "\n",
    "print(products)\n",
    "\n",
    "# If we want to alter the values of any particular key,\n",
    "# we can do that by refering to it.\n",
    "data[\"temp\"] = 50\n",
    "print(data)\n",
    "\n",
    "# If we want to add a new key-value pair,\n",
    "# we can simply add it by refering to it.\n",
    "data[\"website\"] = \"getweather.org\"\n",
    "print(data)"
   ]
  },
  {
   "cell_type": "markdown",
   "metadata": {},
   "source": [
    "The various class methods that exists for dictionaries are as follows:\n",
    "- keys()\n",
    "- values()\n",
    "- items()\n",
    "- get()\n",
    "- update()\n",
    "- pop()\n",
    "- fromkeys()"
   ]
  },
  {
   "cell_type": "code",
   "execution_count": null,
   "metadata": {},
   "outputs": [],
   "source": [
    "# If we want to get all the keys of a dictionary, we use keys method\n",
    "print(data.keys())\n",
    "\n",
    "# If we want to get the values of all the keys in the dictionary, we use the values method\n",
    "print(data.values())\n",
    "\n",
    "# If we want all the key-value pairs of a dictionary, we use items method\n",
    "print(data.items())\n",
    "\n",
    "# If we use just the name of the dictionary in a loop,\n",
    "# it will return the keys one by one.\n",
    "# If we want to get the key-value pair, we will have to use items method.\n",
    "for i in data:\n",
    "    print(i)\n",
    "\n",
    "for i in data.items():\n",
    "    print(i)\n",
    "\n",
    "# If we want to get a particular value from the dict,\n",
    "# we can also use the get method. We will need to pass the key to it as argument.\n",
    "print(data.get(\"temp\"))\n",
    "\n",
    "# If we want to merge two dictionaries into the first one, we can use the update method.\n",
    "data_copy = data.copy()\n",
    "data2 = {\n",
    "    \"lat\": 100.1,\n",
    "    \"long\": 102.4,\n",
    "}\n",
    "data_copy.update(data2)\n",
    "print(data_copy)\n",
    "\n",
    "# If we pass any key which is invalid, it will return None.\n",
    "# If we tried to do the same using square brackets, it will throw an error.\n",
    "# The second argument can be a custom message, which should be returned if search failed, instead of None.\n",
    "print(data.get(\"name\", \"name not found\"))"
   ]
  }
 ],
 "metadata": {
  "kernelspec": {
   "display_name": "Python 3",
   "language": "python",
   "name": "python3"
  },
  "language_info": {
   "codemirror_mode": {
    "name": "ipython",
    "version": 3
   },
   "file_extension": ".py",
   "mimetype": "text/x-python",
   "name": "python",
   "nbconvert_exporter": "python",
   "pygments_lexer": "ipython3",
   "version": "3.11.5"
  }
 },
 "nbformat": 4,
 "nbformat_minor": 2
}
