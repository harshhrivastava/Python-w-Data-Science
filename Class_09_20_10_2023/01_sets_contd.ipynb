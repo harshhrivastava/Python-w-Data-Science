{
 "cells": [
  {
   "cell_type": "markdown",
   "metadata": {},
   "source": [
    "Now we will be covering the following set operations:\n",
    "\n",
    "- union (|)\n",
    "- intersection (&)\n",
    "- difference (-)\n",
    "- symmetric difference (^)"
   ]
  },
  {
   "cell_type": "code",
   "execution_count": null,
   "metadata": {},
   "outputs": [],
   "source": [
    "movies1 = {\"aaa\", \"bbb\", \"ccc\", \"ddd\", \"eee\"}\n",
    "movies2 = {\"fff\", \"ggg\", \"hhh\", \"iii\", \"jjj\"}\n",
    "movies3 = {\"aaa\", \"bbb\", \"fff\", \"ggg\", \"kkk\"}\n",
    "\n",
    "# There are 2 ways to perform union operation.\n",
    "# First way is to use the union method,\n",
    "# whereas the second way is to use the `|` operator.\n",
    "print(movies1.union(movies3))\n",
    "print(movies1 | movies3)\n",
    "\n",
    "# The intersection can be performed as follows:\n",
    "print(movies1.intersection(movies3))\n",
    "print(movies1 & movies3)\n",
    "\n",
    "# The difference between 2 sets can be performed as follows:\n",
    "print(movies1.difference(movies3))\n",
    "print(movies1 - movies3)\n",
    "\n",
    "# The symmetric difference between two sets can be performed as follows:\n",
    "print(movies1.symmetric_difference(movies3))\n",
    "print(movies1 ^ movies3)"
   ]
  },
  {
   "cell_type": "markdown",
   "metadata": {},
   "source": [
    "The relational set operations which are used for performing validations are as follows:\n",
    "\n",
    "- issuperset\n",
    "- issubset\n",
    "- isdisjoint"
   ]
  },
  {
   "cell_type": "code",
   "execution_count": null,
   "metadata": {},
   "outputs": [],
   "source": [
    "# This is used to check whether or not a set is a superset of another one.\n",
    "# If this is true, it means that movies3 contains all the elements of movies2.\n",
    "print(movies3.issuperset(movies2))\n",
    "\n",
    "# This is used to check whether or not a set is a subset of another one.\n",
    "# If this is true, it means that all the elements of movies3 are the elements of movies2.\n",
    "print(movies3.issubset(movies2))\n",
    "\n",
    "# This is used to check whether 2 sets are a disjoint set or not.\n",
    "# This means that both the sets do not have anything in common.\n",
    "print(movies1.isdisjoint(movies2))"
   ]
  }
 ],
 "metadata": {
  "kernelspec": {
   "display_name": "Python 3",
   "language": "python",
   "name": "python3"
  },
  "language_info": {
   "codemirror_mode": {
    "name": "ipython",
    "version": 3
   },
   "file_extension": ".py",
   "mimetype": "text/x-python",
   "name": "python",
   "nbconvert_exporter": "python",
   "pygments_lexer": "ipython3",
   "version": "3.11.5"
  }
 },
 "nbformat": 4,
 "nbformat_minor": 2
}
