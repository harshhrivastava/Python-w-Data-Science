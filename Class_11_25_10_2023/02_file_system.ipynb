{
 "cells": [
  {
   "cell_type": "markdown",
   "metadata": {},
   "source": [
    "### File System in python\n",
    "\n",
    "File system functions are used to read, write or append to a non-encrypted file.\n",
    "The three modes are read, write and append denoted by r, w and a respectively."
   ]
  },
  {
   "cell_type": "code",
   "execution_count": null,
   "metadata": {},
   "outputs": [],
   "source": [
    "# Open function, is a built-in function, which can open files which do not have any encryption.\n",
    "# It returns a file object. This file object can be used to read, write and append to the file.\n",
    "# Open function takes two arguments. First argument is the path of the file.\n",
    "# Second argument is the mode in which the file is to be opened.\n",
    "# The other arguments are buffering, encoding, errors, newline and closefd.\n",
    "fs = open('./exercises/dummy.txt', 'r') # r stands for read mode. This is the default mode.\n",
    "print(fs.read()) # This is a test file.\n",
    "\n",
    "# The right way of opening a file is as follows.\n",
    "# Opening a file is a resource intensive task. So, it is important to close the file after using it.\n",
    "# The with keyword is used to open a file. The file is automatically closed after the with block ends.\n",
    "# Once the resource which was opened, is no longer needed, it is automatically closed using with.\n",
    "with open(\"./exercises/dummy.txt\") as file:\n",
    "    content = file.read()\n",
    "    print(content.splitlines()) # This will print the content of the file as a list of lines.\n",
    "\n",
    "# The previously opened file needs to be closed with block ends.\n",
    "fs.close() # It is important to close the file after using it.\n",
    "\n",
    "# While writing a path to a file, we can use the `r` modifier to make it a raw string.\n",
    "# Or we can either use two backslaches or replace the backslash with a forward slash.\n",
    "# This will help us to avoid escaping the backslashes. The following two paths are equivalent.\n",
    "path = r'C:\\Users\\user\\Desktop\\Python\\exercises\\dummy.txt'\n",
    "print(path)\n",
    "\n",
    "# The write mode is used to write to a file.\n",
    "# If the file does not exist, it will be created.\n",
    "# If the file exists, it will be overwritten.\n",
    "with open('./exercises/dummy.txt', 'w') as file:\n",
    "    file.write('This is a test file.')\n",
    "\n",
    "with open('./exercises/dummy.txt', 'r') as file:\n",
    "    print(file.read()) # This is what was written in the dummy file.\n",
    "\n",
    "# The readline function is used to read a single line from a file.\n",
    "# The readline function returns an empty string when it reaches the end of the file.\n",
    "# We can also specify the line number as an argument to the readline function.\n",
    "with open('./exercises/dummy.txt', 'r') as file:\n",
    "    print(file.readline()) # This is what was written in the dummy file.\n",
    "\n",
    "# The readlines function is used to read all the lines from a file.\n",
    "with open('./exercises/dummy.txt', 'r') as file:\n",
    "    print(file.readlines()) # This will print the content of the file as a list of lines.\n",
    "\n",
    "# The append mode is used to append to a file.\n",
    "# If the file exists, it will be appended to.\n",
    "with open('./exercises/dummy.txt', 'a') as file:\n",
    "    file.write('\\nThis is the second line which got appended.')\n",
    "\n",
    "with open('./exercises/dummy.txt', 'r') as file:\n",
    "    print(file.read()) # This is what was written in the dummy file.\n",
    "\n",
    "# If the file does not exist, it will be created.\n",
    "with open('./exercises/dummy2.txt', 'a') as file:\n",
    "    file.write('This is the second dummy file.')\n",
    "\n",
    "with open('./exercises/dummy2.txt', 'r') as file:\n",
    "    print(file.read()) # This is what was written in the second dummy file."
   ]
  }
 ],
 "metadata": {
  "kernelspec": {
   "display_name": "base",
   "language": "python",
   "name": "python3"
  },
  "language_info": {
   "codemirror_mode": {
    "name": "ipython",
    "version": 3
   },
   "file_extension": ".py",
   "mimetype": "text/x-python",
   "name": "python",
   "nbconvert_exporter": "python",
   "pygments_lexer": "ipython3",
   "version": "3.11.6"
  }
 },
 "nbformat": 4,
 "nbformat_minor": 2
}
