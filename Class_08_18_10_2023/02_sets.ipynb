{
 "cells": [
  {
   "cell_type": "markdown",
   "metadata": {},
   "source": [
    "### Sets in Python\n",
    "\n",
    "In Python, we need to learn how we can perform the following operations using sets.\n",
    "It is similar to the sets which we study in mathematics.\n",
    "Having a basic knowledge of sets is a must in order to study this.\n",
    "- create\n",
    "- methods\n",
    "- set operations"
   ]
  },
  {
   "cell_type": "code",
   "execution_count": null,
   "metadata": {},
   "outputs": [],
   "source": [
    "# If we want to create a set, we can use the set keyword.\n",
    "# This is faster than a list, because sets are implemented using hash tables.\n",
    "# Unlike lists and tuples, it does not contain duplicate values\n",
    "# as well as order does not matter.\n",
    "a = set()\n",
    "b = {1, 2, 3}\n",
    "c = {1, 2, 1, 2, 2, 3, 4, 1, 3, 4, 2, 1, 5, 5, 5}\n",
    "print(c)\n",
    "\n",
    "# To add a new element, we can use the add method.\n",
    "# If it is already present, it won't make any change.\n",
    "c.add(6)\n",
    "print(c)\n",
    "\n",
    "# If we want to add more than one elements, we can use the update method.\n",
    "# It will only add those values which are not present to the set.\n",
    "c.update([1,2,7,8])\n",
    "print(c)\n",
    "\n",
    "# If we want to remove the a particular element, we can use the remove method.\n",
    "# If it is not present, it will throw an error\n",
    "c.remove(8)\n",
    "print(c)\n",
    "\n",
    "# A better way to remove values is to use the discard method.\n",
    "# If the element is already not present, it won't throw any error.\n",
    "c.discard(8)\n",
    "print(c)\n",
    "\n",
    "# The pop method is used to remove any random value from the set.\n",
    "# It returns which value it has removed from the set.\n",
    "c.pop()\n",
    "print(c)"
   ]
  }
 ],
 "metadata": {
  "kernelspec": {
   "display_name": "Python 3",
   "language": "python",
   "name": "python3"
  },
  "language_info": {
   "codemirror_mode": {
    "name": "ipython",
    "version": 3
   },
   "file_extension": ".py",
   "mimetype": "text/x-python",
   "name": "python",
   "nbconvert_exporter": "python",
   "pygments_lexer": "ipython3",
   "version": "3.11.5"
  }
 },
 "nbformat": 4,
 "nbformat_minor": 2
}
