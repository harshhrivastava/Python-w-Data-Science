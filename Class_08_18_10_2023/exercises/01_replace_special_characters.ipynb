{
 "cells": [
  {
   "cell_type": "markdown",
   "metadata": {},
   "source": [
    "Write a program to replace all special characters from a string."
   ]
  },
  {
   "cell_type": "code",
   "execution_count": null,
   "metadata": {},
   "outputs": [],
   "source": [
    "from string import punctuation, digits\n",
    "\n",
    "text = input(\"Enter String:\")\n",
    "\n",
    "for i in punctuation + digits:\n",
    "    text = text.replace(i, \"\")\n",
    "\n",
    "print(text)"
   ]
  }
 ],
 "metadata": {
  "language_info": {
   "name": "python"
  }
 },
 "nbformat": 4,
 "nbformat_minor": 2
}
