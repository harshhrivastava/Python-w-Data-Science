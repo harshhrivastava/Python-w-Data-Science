{
 "cells": [
  {
   "cell_type": "markdown",
   "metadata": {},
   "source": [
    "### Tuples in Python\n",
    "\n",
    "In Python, we need to learn how we can perform the following operations using tuples. Most of the remaining things are the same as we operate in case of lists.\n",
    "- create\n",
    "- packing and unpacking"
   ]
  },
  {
   "cell_type": "code",
   "execution_count": null,
   "metadata": {},
   "outputs": [],
   "source": [
    "# We can create tuples in two ways, i.e., either with parenthesis or without parenthesis.\n",
    "# The enumerate function returns back a tuple which contains the index as well as the value at that index.\n",
    "# Zip function also returns back a tuple which if we want, can dereference it.\n",
    "# Third method to create a tuple using the tuple keyword.\n",
    "# Using a comma is important if it is a single element, else it won't consider it as a tuple.\n",
    "x = (1, 2, 3)\n",
    "y = 4, 5, 6\n",
    "z = tuple((7, 8, 9))\n",
    "\n",
    "# Count method is used to count the number of occurences of a particular element.\n",
    "print(x.count(1))\n",
    "\n",
    "# Index method is used to find the first occurence of an element.\n",
    "# If it does not finds an element, it will throw an error.\n",
    "# We can pass the starting index and the end index as the second and third argument, respectively.\n",
    "print(x.index(2))\n",
    "\n",
    "# In Python, dereferencing is also known as unpacking.\n",
    "# If the total number of variables on the left is\n",
    "# not equal to the number of elements in the tuple, it will throw an error.\n",
    "a, b, c = x\n",
    "print(a, b, c, sep=\"\\n\")\n",
    "\n",
    "# If we do not know the number of elements which are there in the tuple,\n",
    "# we can use wildcard to handle this type of situation.\n",
    "m, *n = x\n",
    "*k, l = y\n",
    "print(m, n, k, l, sep=\"\\n\")\n",
    "\n",
    "# If it happens that the wildcard does not receives any value, it will be an empty list.\n",
    "a, b, c, *d = x\n",
    "print(a, b, c, d, sep=\"\\n\")"
   ]
  }
 ],
 "metadata": {
  "language_info": {
   "name": "python"
  }
 },
 "nbformat": 4,
 "nbformat_minor": 2
}
