{
 "cells": [
  {
   "cell_type": "code",
   "execution_count": 1,
   "metadata": {},
   "outputs": [
    {
     "data": {
      "text/plain": [
       "253"
      ]
     },
     "execution_count": 1,
     "metadata": {},
     "output_type": "execute_result"
    }
   ],
   "source": [
    "from sqlalchemy import create_engine\n",
    "import datetime as dt\n",
    "from sqlalchemy.orm import sessionmaker, declarative_base\n",
    "from sqlalchemy import Column, Integer, String, DateTime\n",
    "import pandas as pd\n",
    "\n",
    "# Here we are creating a base class for our classes to inherit from.\n",
    "Base = declarative_base()\n",
    "\n",
    "# Here we are creating a class that will be used to create the table in the database.\n",
    "class Product(Base):\n",
    "    __tablename__ = 'products'\n",
    "    id = Column(Integer, primary_key=True)\n",
    "    name = Column(String)\n",
    "    price = Column(String)\n",
    "    original_price = Column(String)\n",
    "    rating = Column(String)\n",
    "    created_on = Column(DateTime, default=dt.datetime.utcnow)\n",
    "\n",
    "    def __str__(self):\n",
    "        return f'{self.name}'\n",
    "\n",
    "db = 'crawler.db'\n",
    "\n",
    "# The following line will create the database\n",
    "engine = create_engine(f'sqlite:///{db}')\n",
    "\n",
    "# The following line will create the tables in the database\n",
    "Base.metadata.create_all(engine)\n",
    "\n",
    "dataframe = pd.read_csv('amazon.csv')\n",
    "\n",
    "dataframe.to_sql('products', engine, if_exists='replace', index=False)"
   ]
  }
 ],
 "metadata": {
  "kernelspec": {
   "display_name": "base",
   "language": "python",
   "name": "python3"
  },
  "language_info": {
   "codemirror_mode": {
    "name": "ipython",
    "version": 3
   },
   "file_extension": ".py",
   "mimetype": "text/x-python",
   "name": "python",
   "nbconvert_exporter": "python",
   "pygments_lexer": "ipython3",
   "version": "3.11.5"
  }
 },
 "nbformat": 4,
 "nbformat_minor": 2
}
