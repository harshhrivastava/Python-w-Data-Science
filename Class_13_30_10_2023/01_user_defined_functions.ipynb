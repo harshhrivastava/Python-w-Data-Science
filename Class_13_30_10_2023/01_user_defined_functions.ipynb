{
 "cells": [
  {
   "cell_type": "markdown",
   "metadata": {},
   "source": [
    "### User Defined Functions\n",
    "\n",
    "There are the following types of functions based on their return types\n",
    "- no argument, no return type (mostly used in game programming)\n",
    "- no argument, but return type\n",
    "- no return type, but argument\n",
    "- return type as well as argument\n",
    "- lambda function (anonymous function)\n",
    "\n",
    "##### The conventions followed for making a function are as follows:\n",
    "- function name should be in lower case.\n",
    "- function should never take input from user.\n",
    "- dont use print function to display the result from function, prefer returning value.\n",
    "- functions must be defined before calling.\n",
    "- functions should be called after they have been defined to actually execute them.\n",
    "\n",
    "The syntax to create a function is as follows:\n",
    "```\n",
    "def function_name([parameters]):\n",
    "    '''Here we can define the function for the documentation'''\n",
    "    # body of the function\n",
    "    return [value]\n",
    "```"
   ]
  },
  {
   "cell_type": "code",
   "execution_count": null,
   "metadata": {},
   "outputs": [],
   "source": [
    "# We can create a function in python as follows:\n",
    "def greet():\n",
    "    print(\"Hello!\")\n",
    "\n",
    "greet()\n",
    "\n",
    "# Function can also return values\n",
    "def randomCharacter():\n",
    "    import random\n",
    "    code = random.randint(0, 256)\n",
    "    return chr(code), code\n",
    "\n",
    "(a, b) = randomCharacter()\n",
    "print(f'character \\'{a}\\' has code {b}')\n",
    "\n",
    "# We can also define a function with parameters\n",
    "def simple_interest(principal, rate, time):\n",
    "    return (principal * rate * time) / 100\n",
    "\n",
    "print(f'Simple interest for $1000 for 2 years at rate of 5% is ${simple_interest(1000, 5, 2)}')\n",
    "\n",
    "# We can also define a function with default parameters\n",
    "# Here rate and time are optional parameters\n",
    "# If not provided, they will take the default values\n",
    "def simple_interest2(principal, rate = 5, time = 1):\n",
    "    return (principal * rate * time) / 100\n",
    "\n",
    "# If we only want to provide values for time, we can do so by using keyword arguments\n",
    "print(f'Simple interest for $1000 for 2 years at rate of 5% is ${simple_interest2(1000, time = 2)}')"
   ]
  }
 ],
 "metadata": {
  "kernelspec": {
   "display_name": "base",
   "language": "python",
   "name": "python3"
  },
  "language_info": {
   "codemirror_mode": {
    "name": "ipython",
    "version": 3
   },
   "file_extension": ".py",
   "mimetype": "text/x-python",
   "name": "python",
   "nbconvert_exporter": "python",
   "pygments_lexer": "ipython3",
   "version": "3.11.6"
  }
 },
 "nbformat": 4,
 "nbformat_minor": 2
}
