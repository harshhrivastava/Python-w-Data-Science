{
 "cells": [
  {
   "cell_type": "markdown",
   "metadata": {},
   "source": [
    "### Map function in Python\n",
    "\n",
    "Map function is used to perform function on an iterable and return another iterable after performing computation on each of the elements of the iterable.\n",
    "\n",
    "Map function generates a lazy object which is a generator function. As soon as we convert it to an iterable, it becomes list, tuple or set, whatever was specified.\n",
    "\n",
    "The syntax of map function is as follows:\n",
    "`map(<function>, ... <name of the iterables>)`"
   ]
  },
  {
   "cell_type": "code",
   "execution_count": null,
   "metadata": {},
   "outputs": [],
   "source": [
    "arr = [1, 2, 3, 4, 5, 6, 7, 8, 9]\n",
    "arr_new = list(map(lambda x: x**2, arr))\n",
    "print(arr_new)\n",
    "\n",
    "names = [\"Bruce Wayne\", \"Clark Kent\", \"Peter Parker\", \"Tony Stark\"]\n",
    "first_names = list(map(lambda x: x.split()[0].lower(), names))\n",
    "print(first_names)\n",
    "\n",
    "from math import hypot\n",
    "sides = [[12, 5], [6, 8], [2, 2]]\n",
    "hypotenuses = list(map(lambda x: hypot(x[0], x[1]), sides))\n",
    "print(hypotenuses)"
   ]
  }
 ],
 "metadata": {
  "kernelspec": {
   "display_name": "base",
   "language": "python",
   "name": "python3"
  },
  "language_info": {
   "codemirror_mode": {
    "name": "ipython",
    "version": 3
   },
   "file_extension": ".py",
   "mimetype": "text/x-python",
   "name": "python",
   "nbconvert_exporter": "python",
   "pygments_lexer": "ipython3",
   "version": "3.11.5"
  }
 },
 "nbformat": 4,
 "nbformat_minor": 2
}
