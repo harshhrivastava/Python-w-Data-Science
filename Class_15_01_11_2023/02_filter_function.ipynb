{
 "cells": [
  {
   "cell_type": "markdown",
   "metadata": {},
   "source": [
    "### Filter function in Python\n",
    "\n",
    "Filter function is used to filter data from an iterable and provide only those values which satisfies specified condition.\n",
    "The filter function also takes two or more arguments, same as we give to map function.\n",
    "The value is accepted or rejected based on the boolean value the function returns."
   ]
  },
  {
   "cell_type": "code",
   "execution_count": null,
   "metadata": {},
   "outputs": [],
   "source": [
    "names = [\"James Bond\", \"Ethan Hunt\", \"Jason Bourne\", \"John Wick\"]\n",
    "filtered_names = filter(lambda name: 'e' in name, names)\n",
    "print(list(filtered_names))"
   ]
  }
 ],
 "metadata": {
  "kernelspec": {
   "display_name": "base",
   "language": "python",
   "name": "python3"
  },
  "language_info": {
   "codemirror_mode": {
    "name": "ipython",
    "version": 3
   },
   "file_extension": ".py",
   "mimetype": "text/x-python",
   "name": "python",
   "nbconvert_exporter": "python",
   "pygments_lexer": "ipython3",
   "version": "3.11.5"
  }
 },
 "nbformat": 4,
 "nbformat_minor": 2
}
