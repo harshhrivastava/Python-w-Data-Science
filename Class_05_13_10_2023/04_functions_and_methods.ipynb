{
 "cells": [
  {
   "cell_type": "markdown",
   "metadata": {},
   "source": [
    "### Functions\n",
    "Functions are the pieces of algorithms which receives a value and performs the computation required.\n",
    "`print(\"Some String\")` is an example of a function.\n",
    "\n",
    "### Methods\n",
    "Methods are pieces of algorithms which are applied on a particular object in order to achieve the required results.\n",
    "`someObject.print()` is an example of a method.\n",
    "There are usually 3 types of method:\n",
    "- formatting methods\n",
    "    - upper()\n",
    "    - lower()\n",
    "    - capitalize()\n",
    "    - ...\n",
    "- validation methods\n",
    "    - isUpper()\n",
    "    - isLower()\n",
    "    - endsWith()\n",
    "    - ...\n",
    "- utility methods\n",
    "    - replace()\n",
    "    - find()\n",
    "    - count()"
   ]
  },
  {
   "cell_type": "code",
   "execution_count": null,
   "metadata": {},
   "outputs": [],
   "source": [
    "name = \"aBcD eFgH iJkL mNoP\"\n",
    "upperName = name.upper()\n",
    "print(f\"{name} in uppercase is {upperName}\")\n",
    "lowerName = name.lower()\n",
    "print(f\"{name} in lowercase is {lowerName}\")\n",
    "capitalizeName = name.capitalize()\n",
    "print(f\"{name} in capital case is {capitalizeName}\")\n",
    "titleizeName = name.title()\n",
    "print(f\"{name} in title case is {titleizeName}\")\n",
    "toggleName = name.swapcase()\n",
    "print(f\"{name} in toggle case is {toggleName}\")\n",
    "casefoldName = name.casefold()\n",
    "print(f\"{name} in case fold is {casefoldName}\")"
   ]
  }
 ],
 "metadata": {
  "kernelspec": {
   "display_name": "Python 3",
   "language": "python",
   "name": "python3"
  },
  "language_info": {
   "codemirror_mode": {
    "name": "ipython",
    "version": 3
   },
   "file_extension": ".py",
   "mimetype": "text/x-python",
   "name": "python",
   "nbconvert_exporter": "python",
   "pygments_lexer": "ipython3",
   "version": "3.11.5"
  }
 },
 "nbformat": 4,
 "nbformat_minor": 2
}
