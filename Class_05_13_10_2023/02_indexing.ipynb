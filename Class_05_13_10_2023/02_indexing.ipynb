{
 "cells": [
  {
   "cell_type": "markdown",
   "metadata": {},
   "source": [
    "### Indexing\n",
    "- Indexing is used to access individual characters in a string.\n",
    "- We can use both positive as well as negative indexing to refer the characters.\n",
    "- If we try to access any index which is outside the limit, it will throw an IndexError.\n",
    "- If we want to access any character, we can use the following format: `string_name[index]`"
   ]
  },
  {
   "cell_type": "code",
   "execution_count": null,
   "metadata": {},
   "outputs": [],
   "source": [
    "name = \"Shakespeare\"\n",
    "\n",
    "print(name[0]) # Prints the character at the 0th index\n",
    "print(name[5]) # Prints the character at the 5th index\n",
    "print(name[-1]) # Prints the 1st character from end\n",
    "print(name[-5]) # Prints the 5th character from end"
   ]
  }
 ],
 "metadata": {
  "kernelspec": {
   "display_name": "Python 3",
   "language": "python",
   "name": "python3"
  },
  "language_info": {
   "codemirror_mode": {
    "name": "ipython",
    "version": 3
   },
   "file_extension": ".py",
   "mimetype": "text/x-python",
   "name": "python",
   "nbconvert_exporter": "python",
   "pygments_lexer": "ipython3",
   "version": "3.11.5"
  }
 },
 "nbformat": 4,
 "nbformat_minor": 2
}
