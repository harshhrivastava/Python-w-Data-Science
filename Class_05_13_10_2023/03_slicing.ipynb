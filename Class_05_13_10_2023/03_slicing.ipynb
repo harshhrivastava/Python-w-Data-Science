{
 "cells": [
  {
   "cell_type": "markdown",
   "metadata": {},
   "source": [
    "### Indexing\n",
    "- Indexing is used to access a series of characters in a string.\n",
    "- We can use both positive as well as negative indexing to refer the characters.\n",
    "- If we try to access any index which is outside the limit, it will throw an IndexError.\n",
    "- We can pass on a range using the `:` operator."
   ]
  },
  {
   "cell_type": "code",
   "execution_count": null,
   "metadata": {},
   "outputs": [],
   "source": [
    "name = \"A Random String\"\n",
    "\n",
    "print(name[0:5]) # Prints a series of characters from 0th index till before 5th index\n",
    "print(name[5:]) # Prints a series of characters from the 5th index till the end\n",
    "print(name[0:-5]) # Prints a series of characters from 0th index till the 5th character from end\n",
    "print(name[-5:]) # Prints a series of characters from the 5th character from the end till the end\n",
    "print(name[::-1]) # Prints a series of characters from the last character till the 5th last character\n",
    "print(name[1::2]) # Prints a series of characters from the 1st index and steps 2"
   ]
  }
 ],
 "metadata": {
  "kernelspec": {
   "display_name": "Python 3",
   "language": "python",
   "name": "python3"
  },
  "language_info": {
   "codemirror_mode": {
    "name": "ipython",
    "version": 3
   },
   "file_extension": ".py",
   "mimetype": "text/x-python",
   "name": "python",
   "nbconvert_exporter": "python",
   "pygments_lexer": "ipython3",
   "version": "3.11.5"
  }
 },
 "nbformat": 4,
 "nbformat_minor": 2
}
