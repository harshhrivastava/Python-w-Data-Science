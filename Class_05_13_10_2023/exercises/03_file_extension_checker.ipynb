{
 "cells": [
  {
   "cell_type": "markdown",
   "metadata": {},
   "source": [
    "Write a program to print all the files which are of a particular extension."
   ]
  },
  {
   "cell_type": "code",
   "execution_count": null,
   "metadata": {},
   "outputs": [],
   "source": [
    "ext = input(\"Extension: \")\n",
    "files = [\n",
    "    \"file11.exe\",\"file12.mp4\",\"file13.mp3\",\"file14.txt\",\"file15.ai\",\n",
    "    \"file21.ai\",\"file22.exe\",\"file23.mp4\",\"file24.mp3\",\"file25.txt\",\n",
    "    \"file31.txt\",\"file32.ai\",\"file33.exe\",\"file34.mp4\",\"file35.mp3\",\n",
    "    \"file41.mp3\",\"file42.txt\",\"file43.ai\",\"file44.exe\",\"file45.mp4\",\n",
    "    \"file51.mp4\",\"file52.mp3\",\"file53.txt\",\"file54.ai\",\"file55.exe\",\n",
    "    ]\n",
    "\n",
    "for file in files:\n",
    "    if file.endswith(ext):\n",
    "        print(file)"
   ]
  }
 ],
 "metadata": {
  "kernelspec": {
   "display_name": "Python 3",
   "language": "python",
   "name": "python3"
  },
  "language_info": {
   "codemirror_mode": {
    "name": "ipython",
    "version": 3
   },
   "file_extension": ".py",
   "mimetype": "text/x-python",
   "name": "python",
   "nbconvert_exporter": "python",
   "pygments_lexer": "ipython3",
   "version": "3.11.5"
  }
 },
 "nbformat": 4,
 "nbformat_minor": 2
}
