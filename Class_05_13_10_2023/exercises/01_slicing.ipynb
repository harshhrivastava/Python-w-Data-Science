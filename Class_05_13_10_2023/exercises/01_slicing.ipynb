{
 "cells": [
  {
   "cell_type": "markdown",
   "metadata": {},
   "source": [
    "Write a program to slice and take out the substrings from the given string \"William Shakespeare\".\n",
    "- William\n",
    "- Shake\n",
    "- pear\n",
    "- spear\n",
    "- liam\n",
    "- are"
   ]
  },
  {
   "cell_type": "code",
   "execution_count": null,
   "metadata": {},
   "outputs": [],
   "source": [
    "name = \"William Shakespeare\"\n",
    "\n",
    "print(name[:7]) # William\n",
    "print(name[8:13]) # Shake\n",
    "print(name[14:18]) # pear\n",
    "print(name[13:18]) # spear\n",
    "print(name[3:7]) # liam\n",
    "print(name[-3:]) # are"
   ]
  }
 ],
 "metadata": {
  "language_info": {
   "name": "python"
  }
 },
 "nbformat": 4,
 "nbformat_minor": 2
}
