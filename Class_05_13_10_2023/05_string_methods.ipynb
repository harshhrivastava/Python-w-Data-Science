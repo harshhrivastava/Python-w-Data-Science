{
 "cells": [
  {
   "cell_type": "markdown",
   "metadata": {},
   "source": [
    "### String Formatting Methods"
   ]
  },
  {
   "cell_type": "code",
   "execution_count": null,
   "metadata": {},
   "outputs": [],
   "source": [
    "x = 10\n",
    "y = 15.15\n",
    "z = x * y\n",
    "\n",
    "print(\"{} * {} = {}\".format(x, y, z))\n",
    "# The format method is used in combination with the curly braces.\n",
    "# The curly braces denotes placeholder and the format methods fills the values at the corresponding placeholders.\n",
    "\n",
    "print(f\"{x} * {y} = {z}\")"
   ]
  },
  {
   "cell_type": "markdown",
   "metadata": {},
   "source": [
    "### String Validation Methods "
   ]
  },
  {
   "cell_type": "code",
   "execution_count": null,
   "metadata": {},
   "outputs": [],
   "source": [
    "a = input(\"Enter a string: \")\n",
    "print(f\"You entered: {a}\")\n",
    "\n",
    "print(f\"uppercase: {a.isupper()}\") # Checks whether the entered string uses only capital letters\n",
    "print(f\"lowercase: {a.islower()}\") # Checks whether the entered string uses only lowercase letters\n",
    "print(f\"titlecase: {a.istitle()}\") # Checks whether the entered string starts only with capital letters\n",
    "print(f\"alphabets: {a.isalpha()}\") # Checks whether the entered string contains only alphabets\n",
    "print(f\"alphanumeric: {a.isalnum()}\") # Checks whether the entered string contains alphabets or numbers\n",
    "print(f\"numbers: {a.isnumeric()}\") # Checks whether the entered string contains only numbers\n",
    "print(f\"digits: {a.isdigit()}\") # Checks whether the entered string contains only numbers\n",
    "print(f\"decimal: {a.isdecimal()}\") # Checks whether the entered string contains only numbers\n",
    "print(f\"whitespaces: {a.isspace()}\") # Checks whether the entered string contains only whitespaces\n",
    "print(f\"ascii: {a.isascii()}\") # Checks whether the entered string uses only ascii characters\n",
    "print(f\"starts with 'a': {a.startswith('a')}\") # Checks whether the entered string starts with 'a'\n",
    "print(f\"ends with 'i': {a.endswith('i')}\") # Checks whether the entered string ends with 'i'"
   ]
  }
 ],
 "metadata": {
  "kernelspec": {
   "display_name": "Python 3",
   "language": "python",
   "name": "python3"
  },
  "language_info": {
   "codemirror_mode": {
    "name": "ipython",
    "version": 3
   },
   "file_extension": ".py",
   "mimetype": "text/x-python",
   "name": "python",
   "nbconvert_exporter": "python",
   "pygments_lexer": "ipython3",
   "version": "3.11.5"
  }
 },
 "nbformat": 4,
 "nbformat_minor": 2
}
