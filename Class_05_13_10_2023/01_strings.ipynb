{
 "cells": [
  {
   "cell_type": "markdown",
   "metadata": {},
   "source": [
    "### String\n",
    "- A string is a sequence of characters. It uses Unicode encoding.\n",
    "- It can be written in both single quote as well as double quotes.\n",
    "- In case we want to write the string in two or more lines, we use single/double quotes thrice for denoting both start and end.\n",
    "- The main 4 things that can be done on strings are Indexing, Slicing, Methods and Operations."
   ]
  }
 ],
 "metadata": {
  "language_info": {
   "name": "python"
  }
 },
 "nbformat": 4,
 "nbformat_minor": 2
}
