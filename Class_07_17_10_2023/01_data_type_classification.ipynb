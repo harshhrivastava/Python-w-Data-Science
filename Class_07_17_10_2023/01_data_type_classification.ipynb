{
 "cells": [
  {
   "cell_type": "markdown",
   "metadata": {},
   "source": [
    "### Classification\n",
    "\n",
    "The data structures can primarily be classified in to the following categories:\n",
    "- Pre Defined Data Types\n",
    "- User Defined Data Types\n",
    "\n",
    "In Pre-Defined Data Types, we have 2 categories, i.e., homogeneous and heterogeneous.\n",
    "Homogeneous data types are the data types which consists of only one kind of data, i.e., characters, integers, decimals, etc.\n",
    "Heterogeneous data types are the data types which consists of several kinds of data stored as one, i.e., lists, tuples, sets and dictionaries."
   ]
  }
 ],
 "metadata": {
  "language_info": {
   "name": "python"
  }
 },
 "nbformat": 4,
 "nbformat_minor": 2
}
