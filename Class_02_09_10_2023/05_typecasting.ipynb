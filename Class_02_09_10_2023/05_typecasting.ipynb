{
 "cells": [
  {
   "cell_type": "markdown",
   "metadata": {},
   "source": [
    "### Typecasting\n",
    "Typecasting is converting one form of data into another form.\n",
    "\n",
    "An example of the same is that we can make curd, butter, etc from milk.\n",
    "Similarly we can convert various data types into one another.\n",
    "This is what is being discussed in this topic."
   ]
  },
  {
   "cell_type": "code",
   "execution_count": null,
   "metadata": {},
   "outputs": [],
   "source": [
    "x = 1\n",
    "print(type(x))\n",
    "\n",
    "x = bool(x) # typecasting\n",
    "print(type(x))"
   ]
  },
  {
   "cell_type": "markdown",
   "metadata": {},
   "source": [
    "We can convert one data type to another but not all gets typecasted to each other.\n",
    "Before converting we need to make sure that we handle the exception if it occurs.\n",
    "Error handling will be discussed later one."
   ]
  },
  {
   "cell_type": "code",
   "execution_count": null,
   "metadata": {},
   "outputs": [],
   "source": [
    "x = \"name\"\n",
    "print(type(x))\n",
    "\n",
    "x = int(x) # This will throw ValueError because string is not a number\n",
    "print(type(x))"
   ]
  },
  {
   "cell_type": "markdown",
   "metadata": {},
   "source": [
    "Typecasting is important because by default all input is considered as string. So we explicitly need to tell the interpreter to convert it into the required data type so that we can process it further."
   ]
  },
  {
   "cell_type": "code",
   "execution_count": 4,
   "metadata": {},
   "outputs": [],
   "source": [
    "x = int(input(\"Enter a number: \")) # Here we are typecasting the input to int\n",
    "y = int(input(\"Enter another number: \")) # But this will throw ValueError if we enter a non-numeric value\n",
    "\n",
    "print(x + y)"
   ]
  }
 ],
 "metadata": {
  "kernelspec": {
   "display_name": "base",
   "language": "python",
   "name": "python3"
  },
  "language_info": {
   "codemirror_mode": {
    "name": "ipython",
    "version": 3
   },
   "file_extension": ".py",
   "mimetype": "text/x-python",
   "name": "python",
   "nbconvert_exporter": "python",
   "pygments_lexer": "ipython3",
   "version": "3.11.4"
  }
 },
 "nbformat": 4,
 "nbformat_minor": 2
}
