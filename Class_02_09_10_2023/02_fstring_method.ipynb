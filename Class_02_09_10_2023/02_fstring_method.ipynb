{
 "cells": [
  {
   "cell_type": "markdown",
   "metadata": {},
   "source": [
    "### fstring Method\n",
    "- fstring stands for 'formatted string.'"
   ]
  },
  {
   "cell_type": "code",
   "execution_count": null,
   "metadata": {},
   "outputs": [],
   "source": [
    "x = 5\n",
    "y = 10\n",
    "z = 20\n",
    "\n",
    "print(f'x = {x}, y = {y}, z = {z}') # fstring method is used here for string interpolation"
   ]
  },
  {
   "cell_type": "markdown",
   "metadata": {},
   "source": [
    "- If we want to display everything in the form of a table."
   ]
  },
  {
   "cell_type": "code",
   "execution_count": null,
   "metadata": {},
   "outputs": [],
   "source": [
    "m = \"One Two Three\"\n",
    "n = \"Four Five Six Seven\"\n",
    "o = \"Eight Nine Ten Evelen Twelve\"\n",
    "\n",
    "print(f\"{m:>25} = {len(m)} chars\") # The >25 is used to right align the string\n",
    "print(f\"{n:^25} = {len(n)} chars\") # The ^25 is used to center align the string\n",
    "print(f\"{o:25} = {len(o)} chars\") # The 25 is used to left align the string. This is the default setting."
   ]
  },
  {
   "cell_type": "markdown",
   "metadata": {},
   "source": [
    "- If we want to format the number which is being printed, we can solve it in a similar manner."
   ]
  },
  {
   "cell_type": "code",
   "execution_count": null,
   "metadata": {},
   "outputs": [],
   "source": [
    "pi = 22/7\n",
    "\n",
    "print(f\"Value of pi is {pi}\") # By default, the value of pi is printed with 6 decimal places\n",
    "print(f\"Value of pi is {pi:.3f}\") # The :.3f is used to print the value of pi with 3 decimal places"
   ]
  }
 ],
 "metadata": {
  "kernelspec": {
   "display_name": "base",
   "language": "python",
   "name": "python3"
  },
  "language_info": {
   "codemirror_mode": {
    "name": "ipython",
    "version": 3
   },
   "file_extension": ".py",
   "mimetype": "text/x-python",
   "name": "python",
   "nbconvert_exporter": "python",
   "pygments_lexer": "ipython3",
   "version": "3.11.4"
  }
 },
 "nbformat": 4,
 "nbformat_minor": 2
}
