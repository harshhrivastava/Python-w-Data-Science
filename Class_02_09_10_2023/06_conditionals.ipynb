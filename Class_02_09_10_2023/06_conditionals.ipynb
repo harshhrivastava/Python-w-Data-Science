{
 "cells": [
  {
   "cell_type": "markdown",
   "metadata": {},
   "source": [
    "### Conditionals\n",
    "- if condition\n",
    "- if-else condition\n",
    "- if-elif-else ladder\n",
    "- nested conditions\n",
    "- match-case\n",
    "\n",
    "### Conditional Operators\n",
    "##### Relational Operators\n",
    "(`>`, `<`, `>=`, `<=`, `==`, `!=`)\n",
    "##### Logical Operators\n",
    "(`&&`, `||`, `!`, `and`, `or`, `not`)"
   ]
  },
  {
   "cell_type": "code",
   "execution_count": 1,
   "metadata": {},
   "outputs": [
    {
     "name": "stdout",
     "output_type": "stream",
     "text": [
      "Five is greater than two!\n"
     ]
    }
   ],
   "source": [
    "# if condition\n",
    "\n",
    "if 5 > 2: # This is a condition that will return a boolean value. If the condition is true, the statement will run.\n",
    "    print(\"Five is greater than two!\") # This statement will only run if the condition is true\n",
    "\n",
    "if False:\n",
    "    print(\"If Condition Works When Condition Is False!\") # This statement will not run because the condition is false"
   ]
  }
 ],
 "metadata": {
  "kernelspec": {
   "display_name": "base",
   "language": "python",
   "name": "python3"
  },
  "language_info": {
   "codemirror_mode": {
    "name": "ipython",
    "version": 3
   },
   "file_extension": ".py",
   "mimetype": "text/x-python",
   "name": "python",
   "nbconvert_exporter": "python",
   "pygments_lexer": "ipython3",
   "version": "3.11.4"
  }
 },
 "nbformat": 4,
 "nbformat_minor": 2
}
