{
 "cells": [
  {
   "cell_type": "markdown",
   "metadata": {},
   "source": [
    "### Visualization in Python\n",
    "\n",
    "Visualization in python is done through graphs.\n",
    "The various types of graphs are given as below:\n",
    "- line graph (used for understanding the trend)\n",
    "- area graph (used for understanding the trend)\n",
    "- bar graph (comparing the discrete values)\n",
    "- pie graph (comparing percentage values)\n",
    "- boxplot graph (for understanding the outliers and quartiles in statistical analysis)\n",
    "- histogram (for understanding the distribution of data in statistical analysis)\n",
    "- scatter graph (for understanding the relationship between two or more variables)\n",
    "- heatmap graph (it is a type of 2d histogram)"
   ]
  },
  {
   "cell_type": "code",
   "execution_count": null,
   "metadata": {},
   "outputs": [],
   "source": [
    "import numpy as np\n",
    "import pandas as pd\n",
    "import matplotlib.pyplot as plt\n",
    "import seaborn as sns\n",
    "\n",
    "# The boxplot is a quick way of visually summarizing\n",
    "# one or more groups of numerical data through their quartiles.\n",
    "data = np.random.randint(1, 11, 10)\n",
    "# adding an outlier in the data\n",
    "data[9] = 20\n",
    "# The dots represent an outlier, which means\n",
    "# that the value is far from the rest of the data.\n",
    "# The median in shown in the middle of the box by a line.\n",
    "# The lowest and highest values are shown by the ends of the whiskers.\n",
    "# The top and the bottom of the box are called the first and third quartiles.\n",
    "plt.boxplot(data, notch=True, showmeans=True)\n",
    "plt.text(1.1, 19.75, 'Outlier')\n",
    "plt.show()\n",
    "\n",
    "# Histogram is a graphical representation of the distribution of numerical data.\n",
    "# It is an estimate of the probability distribution of a continuous variable.\n",
    "# ticks are the values that appear on the x-axis and y-axis.\n",
    "# bins are the number of intervals in a histogram.\n",
    "gap = range(data.min(), data.max() + 1, 2)\n",
    "plt.hist(data, bins = gap, edgecolor='black')\n",
    "plt.xticks(gap)\n",
    "plt.show()\n",
    "\n",
    "# The scatter plot is a graph in which the values of two variables are plotted\n",
    "# along two axes, the pattern of the resulting points revealing any correlation present.\n",
    "# The relationship between two variables is called their correlation.\n",
    "# The correlation coefficient is a measure\n",
    "# of how closely the points in a scatter plot lie on a straight line.\n",
    "x = np.random.randint(0, 101, 100)\n",
    "y = np.random.randint(0, 101, 100)\n",
    "plt.scatter(x, y, s=x*y**0.5, alpha=0.5, c=x*y, cmap='Blues')\n",
    "plt.colorbar()\n",
    "plt.show()\n",
    "\n",
    "# The heatmap is a graphical representation of data in which data values\n",
    "# are represented as colors. That is, it uses color in order to communicate a value.\n",
    "# This makes it easy to visualize large amounts of data.\n",
    "# The heatmap is also known as a colored matrix.\n",
    "# Seaborn is a Python data visualization library based on matplotlib.\n",
    "# It provides a high-level interface for drawing attractive and informative statistical graphics.\n",
    "tips = sns.load_dataset('tips')\n",
    "# We can have y, hue, col, row parameters.\n",
    "sns.displot(x='tip', y='day', col='sex', row='time', data=tips)\n",
    "plt.show()"
   ]
  }
 ],
 "metadata": {
  "kernelspec": {
   "display_name": "base",
   "language": "python",
   "name": "python3"
  },
  "language_info": {
   "codemirror_mode": {
    "name": "ipython",
    "version": 3
   },
   "file_extension": ".py",
   "mimetype": "text/x-python",
   "name": "python",
   "nbconvert_exporter": "python",
   "pygments_lexer": "ipython3",
   "version": "3.11.5"
  }
 },
 "nbformat": 4,
 "nbformat_minor": 2
}
