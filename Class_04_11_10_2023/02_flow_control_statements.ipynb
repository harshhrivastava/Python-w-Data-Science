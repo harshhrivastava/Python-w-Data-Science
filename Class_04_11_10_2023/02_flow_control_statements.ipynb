{
 "cells": [
  {
   "cell_type": "markdown",
   "metadata": {},
   "source": [
    "### Flow Control Statements\n",
    "Flow control statements are the statements which help us control the flow of execution in the desired manner.\n",
    "The 3 types of control flow statements are as follows:\n",
    "- continue\n",
    "- break\n",
    "- return (will be discussed later while studying functions)"
   ]
  },
  {
   "cell_type": "markdown",
   "metadata": {},
   "source": [
    "When we want to skip to the next iteration, we use the `continue` statement."
   ]
  },
  {
   "cell_type": "code",
   "execution_count": null,
   "metadata": {},
   "outputs": [],
   "source": [
    "x = [1,2,3,4,0,5,6,7,0,8,9,0,10,0]\n",
    "\n",
    "for i in x:\n",
    "    if i == 0:\n",
    "        continue\n",
    "    print(i, end = \" \")\n",
    "# This loop will print all the numbers except 0 in the list"
   ]
  },
  {
   "cell_type": "markdown",
   "metadata": {},
   "source": [
    "When we want to break out of loop, we use the `break` statement."
   ]
  },
  {
   "cell_type": "code",
   "execution_count": null,
   "metadata": {},
   "outputs": [],
   "source": [
    "for i in x:\n",
    "    if i == 7:\n",
    "        break\n",
    "    print(i, end = \" \")\n",
    "# This loop will print all the numbers before the first 7 encountered in the list"
   ]
  }
 ],
 "metadata": {
  "kernelspec": {
   "display_name": "base",
   "language": "python",
   "name": "python3"
  },
  "language_info": {
   "codemirror_mode": {
    "name": "ipython",
    "version": 3
   },
   "file_extension": ".py",
   "mimetype": "text/x-python",
   "name": "python",
   "nbconvert_exporter": "python",
   "pygments_lexer": "ipython3",
   "version": "3.11.4"
  }
 },
 "nbformat": 4,
 "nbformat_minor": 2
}
