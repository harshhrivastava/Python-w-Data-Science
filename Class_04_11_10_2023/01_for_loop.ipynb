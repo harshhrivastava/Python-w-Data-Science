{
 "cells": [
  {
   "cell_type": "markdown",
   "metadata": {},
   "source": [
    "### Loops in Python\n",
    "\n",
    "There are only 2 types of loops in python\n",
    "- `for` loop\n",
    "- `while` loop\n",
    "\n",
    "`for` loop is a step based loop whereas `while` loop is a condition based loop.\n",
    "If we know how many times we need to run a loop, we use for loop, else, we use a while loop for the same purpose."
   ]
  },
  {
   "cell_type": "markdown",
   "metadata": {},
   "source": [
    "For writing a step based loop, we require data through which we can iterate.\n",
    "The syntax for a `for` loop is given below:\n",
    "\n",
    "`for var in iterables:`\n",
    "\n",
    "        statements"
   ]
  },
  {
   "cell_type": "code",
   "execution_count": null,
   "metadata": {},
   "outputs": [],
   "source": [
    "for num in range(1, 10, 2):\n",
    "# The first argument is the starting number,\n",
    "# the second argument is the stopping number,\n",
    "# and the third argument is the step.\n",
    "    print(num, end=' ')\n",
    "    # The result will be 1 3 5 7 9\n",
    "\n",
    "for _ in range(5): # _ is a throwaway variable. This is used when we don't need to use the variable in the loop.\n",
    "    print('Hello, World!')"
   ]
  },
  {
   "cell_type": "markdown",
   "metadata": {},
   "source": [
    "The `range()` method here is a generator function which generates a range of number from the starting number till before the ending number."
   ]
  },
  {
   "cell_type": "code",
   "execution_count": null,
   "metadata": {},
   "outputs": [],
   "source": [
    "name = \"Thorin Oakenshield\"\n",
    "words = [\"Hello\", \"Hola\", \"Bonjour\", \"Ciao\", \"Namaste\"]\n",
    "colors = (\"Red\", \"Green\", \"Blue\", \"Yellow\", \"Orange\")\n",
    "places = {\"New York\", \"Paris\", \"London\", \"Dubai\", \"New Delhi\"}\n",
    "plurals = {\"cats\": \"cat\", \"dogs\": \"dog\", \"mice\": \"mouse\"}\n",
    "\n",
    "for char in name:\n",
    "    print(char, end=' ')\n",
    "    # The result will be J o h n D o e\n",
    "print()\n",
    "\n",
    "for word in words:\n",
    "    print(word, end=' ')\n",
    "    # The result will be Hello Hola Bonjour Ciao Namaste\n",
    "print()\n",
    "\n",
    "for color in colors:\n",
    "    print(color, end=' ')\n",
    "    # The result will be Red Green Blue Yellow Orange\n",
    "print()\n",
    "\n",
    "for place in places:\n",
    "    print(place, end=' ')\n",
    "    # The result will be New York Paris London Dubai New Delhi\n",
    "print()\n",
    "\n",
    "for plural, singular in plurals.items():\n",
    "    print(plural, singular, sep=': ', end='.')\n",
    "    # The result will be cats: cat, dogs: dog, mice: mouse."
   ]
  },
  {
   "cell_type": "markdown",
   "metadata": {},
   "source": [
    "Enumerate means when we perform actions along with counting, i.e.,\n",
    "When we have a variable for counting and using that variable, we perform the required actions."
   ]
  },
  {
   "cell_type": "code",
   "execution_count": null,
   "metadata": {},
   "outputs": [],
   "source": [
    "names = [\n",
    "    \"Harsh\", \"Nishant\", \"Aman\",\n",
    "    \"Kratagya\", \"Ayush\", \"Natasha\",\n",
    "    \"Mahek\", \"Akash\", \"Krishna\",\n",
    "]\n",
    "\n",
    "for index, value in enumerate(names):\n",
    "    print(f\"Position #{index + 1} is {value}.\")"
   ]
  },
  {
   "cell_type": "markdown",
   "metadata": {},
   "source": [
    "`zip()` is a function which can take multiple iterables and will give variables from each of the iterables at same indexes.\n",
    "If in case the size of one iterable is smaller than the second,\n",
    "then the loop will run until the iterable which has lesser number of variable is exhausted."
   ]
  },
  {
   "cell_type": "code",
   "execution_count": null,
   "metadata": {},
   "outputs": [],
   "source": [
    "surnames = [\n",
    "    \"Srivastava\", \"Shukla\", \"Raza\",\n",
    "    \"Jaiswal\", \"Singh\", \"Kanaujia\",\n",
    "    \"Singhal\", \"Gupta\", \"Agarwal\",\n",
    "]\n",
    "\n",
    "for name, surname in zip(names, surnames):\n",
    "    print(f\"{name} {surname}\")"
   ]
  },
  {
   "cell_type": "markdown",
   "metadata": {},
   "source": [
    "`for`-`else` is a special type of loop in which the else block is executed if all the iteration have been completed successfully. If it happens that the loop breaks, then it won't execute."
   ]
  },
  {
   "cell_type": "code",
   "execution_count": null,
   "metadata": {},
   "outputs": [],
   "source": [
    "# write an example of for-else loop\n",
    "for i in range(3):\n",
    "    name = input(\"Enter your name: \")\n",
    "    if name:\n",
    "        print(f\"Hello, {name}!\")\n",
    "    else:\n",
    "        print(\"You cancelled the execution in between. You have been kicked out of the loop.\")\n",
    "        break\n",
    "else:\n",
    "    print(\"You have successfully exited the loop. You can have your reward now!\") # This will be printed only if the loop is not broken."
   ]
  }
 ],
 "metadata": {
  "kernelspec": {
   "display_name": "base",
   "language": "python",
   "name": "python3"
  },
  "language_info": {
   "codemirror_mode": {
    "name": "ipython",
    "version": 3
   },
   "file_extension": ".py",
   "mimetype": "text/x-python",
   "name": "python",
   "nbconvert_exporter": "python",
   "pygments_lexer": "ipython3",
   "version": "3.11.4"
  }
 },
 "nbformat": 4,
 "nbformat_minor": 2
}
