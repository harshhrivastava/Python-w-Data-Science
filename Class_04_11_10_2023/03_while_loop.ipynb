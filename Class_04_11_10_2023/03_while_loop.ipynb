{
 "cells": [
  {
   "cell_type": "markdown",
   "metadata": {},
   "source": [
    "Unlike `for` loop, `while` loop does not uses enumerate or zip functions.\n",
    "The syntax for a `while` loop is given below:\n",
    "\n",
    "`while condition:`\n",
    "\n",
    "        statements"
   ]
  },
  {
   "cell_type": "code",
   "execution_count": null,
   "metadata": {},
   "outputs": [],
   "source": [
    "n = 0\n",
    "\n",
    "while n < 10: # while n is less than 10, it will print the numbers\n",
    "    print(n, end=' ')\n",
    "    n += 1 # this statement increments n by 1 each time the loop runs"
   ]
  },
  {
   "cell_type": "markdown",
   "metadata": {},
   "source": [
    "If in case we create an infinite loop, we need to specify the condition when it has to exit the loop. For this we use the flow control statements."
   ]
  },
  {
   "cell_type": "code",
   "execution_count": null,
   "metadata": {},
   "outputs": [],
   "source": [
    "while True:\n",
    "    # Create a variable which stores a random number\n",
    "    num = int(input('Enter a number greater than 100: '))\n",
    "    if num > 100:\n",
    "        print(f'Congratulations! You entered {num} which is greater than 100.')\n",
    "        break # this statement breaks the loop if the condition is met\n",
    "    else:\n",
    "        print('Try again.')\n",
    "# The while loop will run until the user enters a number greater than 100, then it will break. Else it will keep running forever."
   ]
  }
 ],
 "metadata": {
  "kernelspec": {
   "display_name": "base",
   "language": "python",
   "name": "python3"
  },
  "language_info": {
   "codemirror_mode": {
    "name": "ipython",
    "version": 3
   },
   "file_extension": ".py",
   "mimetype": "text/x-python",
   "name": "python",
   "nbconvert_exporter": "python",
   "pygments_lexer": "ipython3",
   "version": "3.11.4"
  }
 },
 "nbformat": 4,
 "nbformat_minor": 2
}
