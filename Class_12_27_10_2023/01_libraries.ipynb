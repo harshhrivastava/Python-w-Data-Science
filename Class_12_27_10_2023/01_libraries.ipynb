{
 "cells": [
  {
   "cell_type": "markdown",
   "metadata": {},
   "source": [
    "### Libraries in Python\n",
    "\n",
    "If we want to use a library in python, we can import it in any of the following ways:\n",
    "- We can directly import the module using `import module`.\n",
    "- we can import all items from the module using `from module import *`.\n",
    "- If we only want to import a particular function from a library, we can use `from module import func`.\n",
    "- We can import a function from module with alias using `from module import func as alias`.\n",
    "- We can even import a complete module as alias using `import module as alias`.\n",
    "\n",
    "A few of the libraries are as follows:\n",
    "- math\n",
    "- requests\n",
    "- random\n",
    "- os\n",
    "- datetime\n",
    "- numpy\n",
    "- pandas\n",
    "- seaweed\n",
    "\n",
    "We will only be exploring a few of these very briefly."
   ]
  },
  {
   "cell_type": "code",
   "execution_count": null,
   "metadata": {},
   "outputs": [],
   "source": [
    "# We can import libraries using import keyword\n",
    "# The math library is used to perform mathematical operations\n",
    "import math\n",
    "print(math.hypot(3, 4)) # This is used to calculate the hypotenuse of a right triangle\n",
    "print(math.sqrt(9)) # This is used to calculate the square root of a number\n",
    "print(math.pi) # This is used to calculate the value of pi\n",
    "\n",
    "# If we import using from keyword, we don't need to use the library name to call the function\n",
    "from math import *\n",
    "print(hypot(3, 4))\n",
    "print(sqrt(9))\n",
    "print(pi)\n",
    "\n",
    "# We can also import specific functions from a library\n",
    "from math import sin\n",
    "print(sin(pi/2))\n",
    "\n",
    "# We can also import a library using an alias\n",
    "import math as m\n",
    "print(m.hypot(3, 4))\n",
    "print(m.sqrt(9))\n",
    "print(m.pi)\n",
    "\n",
    "# We can also import specific functions from a library using an alias\n",
    "from math import sin as s\n",
    "print(s(pi/2))\n",
    "\n",
    "# The requests library is used to make HTTP requests\n",
    "# We will only be able to use the get function from the requests library\n",
    "# because we have imported it using from keyword\n",
    "from requests import get\n",
    "response = get('https://www.google.com', params={'q': 'python'})\n",
    "print(response.status_code)\n",
    "\n",
    "# The random library is used to generate random numbers\n",
    "from random import randint as ri\n",
    "print(ri(1, 10)) # This will generate a random number between 1 and 10\n",
    "\n",
    "# The os library is used to interact with the operating system\n",
    "# The path module of the os library is used to interact with the file system\n",
    "from os.path import getsize as size\n",
    "print(size('01_libraries.ipynb')) # This will return the size of the file in bytes\n",
    "\n",
    "# The datetime library is used to work with dates and times\n",
    "from datetime import datetime as dt\n",
    "print(dt.now()) # This will return the current date and time"
   ]
  }
 ],
 "metadata": {
  "kernelspec": {
   "display_name": "base",
   "language": "python",
   "name": "python3"
  },
  "language_info": {
   "codemirror_mode": {
    "name": "ipython",
    "version": 3
   },
   "file_extension": ".py",
   "mimetype": "text/x-python",
   "name": "python",
   "nbconvert_exporter": "python",
   "pygments_lexer": "ipython3",
   "version": "3.11.6"
  }
 },
 "nbformat": 4,
 "nbformat_minor": 2
}
