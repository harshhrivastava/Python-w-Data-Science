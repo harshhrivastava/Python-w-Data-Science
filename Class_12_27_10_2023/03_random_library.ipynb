{
 "cells": [
  {
   "cell_type": "code",
   "execution_count": null,
   "metadata": {},
   "outputs": [],
   "source": [
    "# The random library is used to generate random numbers\n",
    "import random\n",
    "\n",
    "l1 = [1, 2, 3, 4, 5]\n",
    "\n",
    "random.seed(42) # Sets the seed for the random number generator\n",
    "print(random.random()) # Random number between 0 and 1\n",
    "print(random.randint(1, 10)) # Random integer between 1 and 10\n",
    "print(random.randrange(1, 10)) # Random integer between 1 and 9\n",
    "print(random.choice(l1)) # Random element from the list\n",
    "print(random.choices(l1, k=3)) # Random elements from the list, with replacement\n",
    "random.shuffle(l1) # Shuffles the list, in place\n",
    "print(l1)\n",
    "print(random.sample(l1, k=3)) # Random elements from the list, without replacement\n",
    "print(random.uniform(1, 10)) # Random float between 1 and 10"
   ]
  }
 ],
 "metadata": {
  "kernelspec": {
   "display_name": "base",
   "language": "python",
   "name": "python3"
  },
  "language_info": {
   "codemirror_mode": {
    "name": "ipython",
    "version": 3
   },
   "file_extension": ".py",
   "mimetype": "text/x-python",
   "name": "python",
   "nbconvert_exporter": "python",
   "pygments_lexer": "ipython3",
   "version": "3.11.6"
  }
 },
 "nbformat": 4,
 "nbformat_minor": 2
}
