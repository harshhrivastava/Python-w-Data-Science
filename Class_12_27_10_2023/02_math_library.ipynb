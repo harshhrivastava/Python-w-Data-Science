{
 "cells": [
  {
   "cell_type": "code",
   "execution_count": 3,
   "metadata": {},
   "outputs": [
    {
     "name": "stdout",
     "output_type": "stream",
     "text": [
      "3.141592653589793\n",
      "2.718281828459045\n",
      "1.4142135623730951\n",
      "1.0\n",
      "6.123233995736766e-17\n",
      "0.9999999999999999\n",
      "1.0\n",
      "2.0\n",
      "2.0\n",
      "6.643856189774724\n",
      "120\n",
      "6\n",
      "8.0\n",
      "11.313708498984761\n",
      "3\n",
      "4\n"
     ]
    }
   ],
   "source": [
    "# The math library contains a set of predefined mathematical functions and constants.\n",
    "import math\n",
    "\n",
    "print(math.pi) # This will print the value of pi\n",
    "print(math.e) # This will print the value of e\n",
    "print(math.sqrt(2)) # This will print the square root of 2\n",
    "print(math.sin(math.pi/2)) # This will print the sine of pi/2\n",
    "print(math.cos(math.pi/2)) # This will print the cosine of pi/2\n",
    "print(math.tan(math.pi/4)) # This will print the tangent of pi/4\n",
    "print(math.log(math.e)) # This will print the natural logarithm of e\n",
    "print(math.log(100, 10)) # This will print the logarithm of 100 with base 10\n",
    "print(math.log10(100)) # This will print the logarithm of 100 with base 10\n",
    "print(math.log2(100)) # This will print the logarithm of 100 with base 2\n",
    "print(math.factorial(5)) # This will print the factorial of 5\n",
    "print(math.gcd(12, 18)) # This will print the gcd of 12 and 18\n",
    "print(math.pow(2, 3)) # This will print the value of 2^3\n",
    "print(math.pow(2, 3.5)) # This will print the value of 2^3.5\n",
    "print(math.floor(3.14)) # This will print the integer which is less than or equal to 3.14\n",
    "print(math.ceil(3.14)) # This will print the integer which is greater than or equal to 3.14"
   ]
  }
 ],
 "metadata": {
  "kernelspec": {
   "display_name": "base",
   "language": "python",
   "name": "python3"
  },
  "language_info": {
   "codemirror_mode": {
    "name": "ipython",
    "version": 3
   },
   "file_extension": ".py",
   "mimetype": "text/x-python",
   "name": "python",
   "nbconvert_exporter": "python",
   "pygments_lexer": "ipython3",
   "version": "3.11.6"
  }
 },
 "nbformat": 4,
 "nbformat_minor": 2
}
