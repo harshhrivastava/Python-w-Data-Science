{
 "cells": [
  {
   "cell_type": "code",
   "execution_count": 2,
   "metadata": {},
   "outputs": [
    {
     "name": "stdout",
     "output_type": "stream",
     "text": [
      "2023-10-27 19:57:54.159854\n",
      "1698416874.160014\n",
      "2020-09-13 17:56:40\n",
      "Oct' 27, 2023\n",
      "2006-11-21 00:00:00\n"
     ]
    }
   ],
   "source": [
    "# The datetime library is a powerful library that allows us to work with dates and times in Python.\n",
    "import datetime as dt\n",
    "datetime = dt.datetime\n",
    "\n",
    "print(datetime.now()) # Prints the current date and time\n",
    "print(datetime.timestamp(dt.datetime.now())) # Prints the current date and time in seconds since 1970\n",
    "print(datetime.fromtimestamp(1600000000)) # Prints the date and time from a timestamp\n",
    "print(datetime.now().strftime(\"%h' %d, %Y\")) # Prints the current date and time in a specific format\n",
    "print(datetime.strptime(\"21/11/2006\", \"%d/%m/%Y\")) # Converts a string to a datetime object"
   ]
  }
 ],
 "metadata": {
  "kernelspec": {
   "display_name": "base",
   "language": "python",
   "name": "python3"
  },
  "language_info": {
   "codemirror_mode": {
    "name": "ipython",
    "version": 3
   },
   "file_extension": ".py",
   "mimetype": "text/x-python",
   "name": "python",
   "nbconvert_exporter": "python",
   "pygments_lexer": "ipython3",
   "version": "3.11.6"
  }
 },
 "nbformat": 4,
 "nbformat_minor": 2
}
