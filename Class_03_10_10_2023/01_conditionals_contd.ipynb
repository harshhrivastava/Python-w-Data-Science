{
 "cells": [
  {
   "cell_type": "markdown",
   "metadata": {},
   "source": [
    "If it happens that we want something to execute if a statement is true, and if false, then something else to execute, then we can use if-else conditional.\n",
    "If the condition is true, the statements for true condition will be executed, else the one for false condition will be executed."
   ]
  },
  {
   "cell_type": "code",
   "execution_count": null,
   "metadata": {},
   "outputs": [],
   "source": [
    "if 5 > 10:\n",
    "    print(\"5 is greater than 10\") # This will not be printed\n",
    "else:\n",
    "    print(\"5 is not greater than 10\") # This will be printed"
   ]
  },
  {
   "cell_type": "markdown",
   "metadata": {},
   "source": [
    "`if`-`elif` conditional is known as related condition or conditional ladder. The statements of the first true condition will get executed and the control flow will go out of the conditions."
   ]
  },
  {
   "cell_type": "code",
   "execution_count": null,
   "metadata": {},
   "outputs": [],
   "source": [
    "a, b = 5, 2\n",
    "\n",
    "if a + b > 10:\n",
    "    print(\"a + b is greater than 10\") # This will not be printed\n",
    "elif a + b > 5:\n",
    "    print(\"a + b is greater than 5\") # This will be printed\n",
    "else:\n",
    "    print(\"a + b is not greater than 10\") # This will not be printed"
   ]
  }
 ],
 "metadata": {
  "kernelspec": {
   "display_name": "base",
   "language": "python",
   "name": "python3"
  },
  "language_info": {
   "codemirror_mode": {
    "name": "ipython",
    "version": 3
   },
   "file_extension": ".py",
   "mimetype": "text/x-python",
   "name": "python",
   "nbconvert_exporter": "python",
   "pygments_lexer": "ipython3",
   "version": "3.11.4"
  }
 },
 "nbformat": 4,
 "nbformat_minor": 2
}
