{
 "cells": [
  {
   "cell_type": "markdown",
   "metadata": {},
   "source": [
    "This program will calculate the rate of interest on the basis of the principal amount.\n",
    "If the principal amount is greater than 15000, then it will keep the rate of interest as 3% else it will be 4%."
   ]
  },
  {
   "cell_type": "code",
   "execution_count": null,
   "metadata": {},
   "outputs": [],
   "source": [
    "p = int(input(\"Enter the principal amount: \"))\n",
    "t = int(input(\"Enter the time in years: \"))\n",
    "\n",
    "if p >= 15000:\n",
    "    r = 3\n",
    "else:\n",
    "    r = 4\n",
    "\n",
    "si = (p * t * r) / 100\n",
    "print(\"Simple interest is\", si)"
   ]
  }
 ],
 "metadata": {
  "kernelspec": {
   "display_name": "base",
   "language": "python",
   "name": "python3"
  },
  "language_info": {
   "codemirror_mode": {
    "name": "ipython",
    "version": 3
   },
   "file_extension": ".py",
   "mimetype": "text/x-python",
   "name": "python",
   "nbconvert_exporter": "python",
   "pygments_lexer": "ipython3",
   "version": "3.11.4"
  }
 },
 "nbformat": 4,
 "nbformat_minor": 2
}
