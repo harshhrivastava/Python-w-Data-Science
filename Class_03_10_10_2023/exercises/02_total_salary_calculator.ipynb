{
 "cells": [
  {
   "cell_type": "markdown",
   "metadata": {},
   "source": [
    "Write a program to calculate total salary of a person based on the basic salary.\n",
    "The formula to calculate the hra and da is given as below:\n",
    "\n",
    "- If basic salary is greater than 25000, then hra is 30% and da is 95% of basic salary.\n",
    "- If basic salary is greater than 20000, then hra is 25% and da is 90% of basic salary.\n",
    "- If basic salary is greater than 15000, then hra is 20% and da is 85% of basic salary."
   ]
  },
  {
   "cell_type": "code",
   "execution_count": null,
   "metadata": {},
   "outputs": [],
   "source": [
    "basic_salary = int(input(\"Enter your basic salary: \"))\n",
    "\n",
    "if basic_salary > 25000:\n",
    "    hra = basic_salary * 0.3\n",
    "    da = basic_salary * 0.95\n",
    "elif basic_salary > 20000:\n",
    "    hra = basic_salary * 0.25\n",
    "    da = basic_salary * 0.9\n",
    "elif basic_salary > 15000:\n",
    "    hra = basic_salary * 0.2\n",
    "    da = basic_salary * 0.85\n",
    "else:\n",
    "    hra, da = 0, 0\n",
    "\n",
    "total_salary = basic_salary + hra + da\n",
    "\n",
    "print(\"Total salary is:\", total_salary)"
   ]
  }
 ],
 "metadata": {
  "kernelspec": {
   "display_name": "base",
   "language": "python",
   "name": "python3"
  },
  "language_info": {
   "codemirror_mode": {
    "name": "ipython",
    "version": 3
   },
   "file_extension": ".py",
   "mimetype": "text/x-python",
   "name": "python",
   "nbconvert_exporter": "python",
   "pygments_lexer": "ipython3",
   "version": "3.11.4"
  }
 },
 "nbformat": 4,
 "nbformat_minor": 2
}
