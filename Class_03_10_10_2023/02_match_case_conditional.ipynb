{
 "cells": [
  {
   "cell_type": "markdown",
   "metadata": {},
   "source": [
    "`match`-`case` conditional requires us to provide a conditon and on the basis of it's response, we can execute a particular set of statements. Various cases are added in the block. Whichever condition gets true, accordingly the statements will be executed."
   ]
  },
  {
   "cell_type": "code",
   "execution_count": null,
   "metadata": {},
   "outputs": [],
   "source": [
    "name = input(\"What is your name?\")\n",
    "\n",
    "match name: # here we provide the value to match against\n",
    "    case \"Guido\": # here we provide the value to match against\n",
    "        print(\"Hello Guido!\") # if the name is Guido, this statement will be executed\n",
    "    case \"Raymond\":\n",
    "        print(\"Hello Raymond!\")\n",
    "    case \"David\":\n",
    "        print(\"Hello David!\")\n",
    "    case _: # this is the default case, which matches anything\n",
    "        print(\"Hello stranger!\") # if the name is not Guido, Raymond or David, this statement will be executed"
   ]
  }
 ],
 "metadata": {
  "language_info": {
   "name": "python"
  }
 },
 "nbformat": 4,
 "nbformat_minor": 2
}
