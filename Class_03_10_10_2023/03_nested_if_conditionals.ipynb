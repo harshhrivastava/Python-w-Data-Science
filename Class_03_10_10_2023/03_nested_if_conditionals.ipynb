{
 "cells": [
  {
   "cell_type": "markdown",
   "metadata": {},
   "source": [
    "If a condition is present in the statement of any other condition, then it is known as a nested conditional.\n",
    "\n",
    "`if condition_1:`\n",
    "    `if condition_2:`\n",
    "        `if condition_3:`\n",
    "            ...\n",
    "\n",
    "In the above one condition is nested in another condition. This is known as nested conditional."
   ]
  },
  {
   "cell_type": "code",
   "execution_count": null,
   "metadata": {},
   "outputs": [],
   "source": [
    "username = input(\"Enter username: \")\n",
    "password = input(\"Enter password: \")\n",
    "\n",
    "if len(username) > 0:\n",
    "    if len(password) > 0:\n",
    "        if username == 'admin':\n",
    "            if password == 'password':\n",
    "                print(\"Welcome to the system\")\n",
    "            else:\n",
    "                print(\"Invalid password\")\n",
    "        else:\n",
    "            print(\"Invalid username\")\n",
    "    else:\n",
    "        print(\"Password cannot be empty\")\n",
    "else:\n",
    "    print(\"Username cannot be empty\")"
   ]
  }
 ],
 "metadata": {
  "language_info": {
   "name": "python"
  }
 },
 "nbformat": 4,
 "nbformat_minor": 2
}
