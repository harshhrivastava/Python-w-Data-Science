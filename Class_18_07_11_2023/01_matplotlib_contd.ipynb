{
 "cells": [
  {
   "cell_type": "code",
   "execution_count": null,
   "metadata": {},
   "outputs": [],
   "source": [
    "import matplotlib.pyplot as plt\n",
    "\n",
    "# We can create a bar graph using the following data\n",
    "years = [2010, 2011, 2012, 2013, 2014, 2015]\n",
    "sales = [100, 200, 300, 400, 500, 600]\n",
    "\n",
    "# The figure function is used to create a figure object\n",
    "# This can be used to add multiple graphs to a single figure\n",
    "fig = plt.figure(figsize=(4, 4))\n",
    "\n",
    "# There are two ways to add a graph to a figure object\n",
    "# 1. using add_axes method\n",
    "# 2. using plot method\n",
    "\n",
    "# The add_axes method takes a list containing the coordinates of a rectangle\n",
    "# The values in the list must be in order as follows: [left, bottom, width, height]\n",
    "ax1 = fig.add_axes([0, 0, 1, 1])\n",
    "ax2 = fig.add_axes([0.8, 0.8, 0.2, 0.2])\n",
    "ax3 = fig.add_axes([0.8, 0, 0.2, 0.2])\n",
    "ax4 = fig.add_axes([0, 0, 0.2, 0.2])\n",
    "ax4 = fig.add_axes([0, 0.8, 0.2, 0.2])\n",
    "ax5 = fig.add_axes([0.4, 0.4, 0.2, 0.2])\n",
    "plt.show()\n",
    "\n",
    "# Now we will create a bar graph\n",
    "fig = plt.figure(figsize=(4, 4))\n",
    "ax1 = fig.add_axes([0, 0, 1, 1])\n",
    "ax1.bar(years, sales)\n",
    "plt.show()\n",
    "\n",
    "# We can also create a pie chart\n",
    "fig = plt.figure(figsize=(4, 4))\n",
    "ax1 = fig.add_axes([0, 0, 1, 1])\n",
    "ax1.pie(sales, labels=years, autopct='%1.1f%%')\n",
    "plt.show()\n",
    "\n",
    "# We can also create a line graph\n",
    "# and customize our graph using the following parameters\n",
    "plt.figure(figsize=(6, 6), facecolor='lightgrey', edgecolor='red', linewidth=5, frameon=True)\n",
    "plt.plot(years, sales, 'ro--')\n",
    "plt.title('Price of Stocks')\n",
    "plt.xlabel('Years')\n",
    "plt.ylabel('Price')\n",
    "plt.hlines([300, 400], [min(years), min(years)], [2012, 2013], colors='black', linestyle='dashed')\n",
    "plt.vlines([2012, 2013], [min(sales), min(sales)], [300, 400], colors='black', linestyle='dashed')\n",
    "plt.text(min(years), 340, 'Important Year', fontsize=15)\n",
    "plt.show()"
   ]
  }
 ],
 "metadata": {
  "kernelspec": {
   "display_name": "base",
   "language": "python",
   "name": "python3"
  },
  "language_info": {
   "codemirror_mode": {
    "name": "ipython",
    "version": 3
   },
   "file_extension": ".py",
   "mimetype": "text/x-python",
   "name": "python",
   "nbconvert_exporter": "python",
   "pygments_lexer": "ipython3",
   "version": "3.11.5"
  }
 },
 "nbformat": 4,
 "nbformat_minor": 2
}
