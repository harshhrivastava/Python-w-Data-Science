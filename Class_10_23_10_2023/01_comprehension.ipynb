{
 "cells": [
  {
   "cell_type": "markdown",
   "metadata": {},
   "source": [
    "### Comprehension in Python\n",
    "It is a single line code for generation an iterable from an existing iterable. The various types are:\n",
    "\n",
    "- List comprehension\n",
    "- Set comprehension\n",
    "- Dictionary comprehension\n",
    "\n",
    "The two ways to create comprehension are as follows:\n",
    "- ```new_it = [operation for item in existing_it]```\n",
    "- ```new_it = [operation for item in existing_it if condition]```"
   ]
  },
  {
   "cell_type": "code",
   "execution_count": 9,
   "metadata": {},
   "outputs": [
    {
     "name": "stdout",
     "output_type": "stream",
     "text": [
      "[1, 2, 3, 4, 5, 6]\n",
      "[1, 4, 27, 256, 3125, 46656]\n",
      "[5, 10, 15, 20, 25, 30]\n",
      "[10, 30, 50]\n",
      "{1, 2, 3, 4, 5, 6}\n",
      "{5, 10, 15, 20, 25, 30}\n",
      "{1: 'one', 2: 'two', 3: 'three'}\n",
      "{1: 'one', 2: 'two', 3: 'three'}\n",
      "['one', 'two', 'three']\n",
      "{0: 'one', 1: 'two', 2: 'three'}\n",
      "['one', 'two', 'three']\n",
      "['uno', 'dos', 'tres']\n",
      "{'one': 'uno', 'two': 'dos', 'three': 'tres'}\n",
      "(1, 2, 3, 4, 5, 6)\n",
      "<generator object <genexpr> at 0x7fc06c04e330>\n",
      "[5, 10, 15, 20, 25, 30]\n",
      "()\n"
     ]
    }
   ],
   "source": [
    "# Here we create a list from an existing list\n",
    "# This is the normal way of creating a new list from an existing one\n",
    "a1 = [1,2,3,4,5,6]\n",
    "a2 = []\n",
    "\n",
    "for i in a1:\n",
    "    s = i ** i\n",
    "    a2.append(s)\n",
    "\n",
    "print(a1)\n",
    "print(a2)\n",
    "\n",
    "# We can do the same thing using comprehensions\n",
    "a3 = [item * 5 for item in a1]\n",
    "a4 = [item * 10 for item in a1 if item % 2 != 0]\n",
    "print(a3, a4, sep=\"\\n\")\n",
    "\n",
    "# We can also create a set using comprehension\n",
    "set1 = {1, 2, 3, 4, 5, 6}\n",
    "set2 = {item * 5 for item in set1}\n",
    "print(set1, set2, sep=\"\\n\")\n",
    "\n",
    "# The same can be done in a dictionary\n",
    "dict1 = {1: \"one\", 2: \"two\", 3: \"three\"}\n",
    "dict2 = {k: v for k, v in dict1.items()}\n",
    "print(dict1, dict2, sep=\"\\n\")\n",
    "\n",
    "# We can create a dictionary using a list\n",
    "list1 = [\"one\", \"two\", \"three\"]\n",
    "dict3 = {k: v for k, v in enumerate(list1)}\n",
    "print(list1, dict3, sep=\"\\n\")\n",
    "\n",
    "# We can also create a dictionary using 2 lists\n",
    "list2 = [\"one\", \"two\", \"three\"]\n",
    "list3 = [\"uno\", \"dos\", \"tres\"]\n",
    "dict4 = {k: v for k, v in zip(list2, list3)}\n",
    "print(list2, list3, dict4, sep=\"\\n\")\n",
    "\n",
    "# Can we create a tuple using comprehension?\n",
    "tuple1 = (1, 2, 3, 4, 5, 6)\n",
    "generatorObject1 = (item * 5 for item in tuple1) # This is a generator object and not a tuple\n",
    "print(tuple1, generatorObject1, sep=\"\\n\")\n",
    "print(tuple(generatorObject1)) # This is a tuple\n",
    "print(list(generatorObject1)) # This is an empty list because the generator object is exhausted after the first iteration\n",
    "\n"
   ]
  }
 ],
 "metadata": {
  "kernelspec": {
   "display_name": "Python 3",
   "language": "python",
   "name": "python3"
  },
  "language_info": {
   "codemirror_mode": {
    "name": "ipython",
    "version": 3
   },
   "file_extension": ".py",
   "mimetype": "text/x-python",
   "name": "python",
   "nbconvert_exporter": "python",
   "pygments_lexer": "ipython3",
   "version": "3.11.5"
  }
 },
 "nbformat": 4,
 "nbformat_minor": 2
}
