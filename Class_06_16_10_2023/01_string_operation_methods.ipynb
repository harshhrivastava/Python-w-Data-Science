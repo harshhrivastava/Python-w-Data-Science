{
 "cells": [
  {
   "cell_type": "markdown",
   "metadata": {},
   "source": [
    "### String Operation Methods\n",
    "\n",
    "- find\n",
    "- rfind\n",
    "- replace\n",
    "- split\n",
    "- splitlines\n",
    "- join\n",
    "- strip\n",
    "- count\n",
    "- removeprefix\n",
    "- removesuffix"
   ]
  },
  {
   "cell_type": "code",
   "execution_count": null,
   "metadata": {},
   "outputs": [],
   "source": [
    "message = \"a very normal message in a very normal world.\"\n",
    "\n",
    "# Find method is used to find a specific pattern from left to right in a string.\n",
    "# It returns the index of the first character of the first occurence of the pattern.\n",
    "# If the pattern does not exists, it returns -1.\n",
    "# The second parameter can be the index from where it should start searching for the pattern.\n",
    "# Similarly, the third parameter can be the end index. It is exclusive.\n",
    "print(message.find(\"normal\"))\n",
    "\n",
    "# RFind method works the same way as find method but only starts searching from right to left.\n",
    "print(message.rfind(\"normal\"))\n",
    "\n",
    "# Replace method is used to replace all the occurences of a particular pattern in a string.\n",
    "# In the third argument, we can specify how many times do we want to replace.\n",
    "# If it does not finds any pattern match, it simply returns the string.\n",
    "# We can even chain many replace methods together.\n",
    "print(message.replace(\"normal\", \"urgent\"))\n",
    "\n",
    "# Split method converts a string into a list by breaking it whenever it finds a pattern match.\n",
    "# By default, the pattern is space. So it will break the string into words.\n",
    "# We can also specify what will be the maximum pieces it needs to split itself in using `maxsplit` attribute.\n",
    "print(message.split(\"a\"))\n",
    "\n",
    "# Join method is the opposite of the split method.\n",
    "# It is used to join the elements in an iterable and convert it into a string.\n",
    "# We can specify which character it should used in between each of the elements while joining.\n",
    "# By default the gluestring is ''.\n",
    "# We can also use variables instead of using strings directly.\n",
    "print(\"-\".join(message.split()))\n",
    "\n",
    "# Count method is used to count the number of occurence of a pattern in a string.\n",
    "# This is case sensitive.\n",
    "print(message.count(\"normal\"))\n",
    "\n",
    "# Strip method is used to remove any unnecessary literal characters in the front as well as the end of a string.\n",
    "# By default, the pattern are all the whitespaces.\n",
    "# If we only want to strip from left, we use lstrip method. Similarly, for right, we use rstrip method.\n",
    "print(f\"#####${message}$#####\".strip(\"#\"))\n",
    "\n",
    "# RemovePrefix method is used to remove the occurence of the string which is present in the front only once.\n",
    "# We can specify a sequence of characters instead of just a single character.\n",
    "print(message.removeprefix(\"a \"))\n",
    "\n",
    "# RemoveSuffix method is similar to RemovePrefix method except that it removes the string from the end, if present.\n",
    "print(message.removesuffix(\"world.\"))"
   ]
  }
 ],
 "metadata": {
  "kernelspec": {
   "display_name": "Python 3",
   "language": "python",
   "name": "python3"
  },
  "language_info": {
   "codemirror_mode": {
    "name": "ipython",
    "version": 3
   },
   "file_extension": ".py",
   "mimetype": "text/x-python",
   "name": "python",
   "nbconvert_exporter": "python",
   "pygments_lexer": "ipython3",
   "version": "3.11.5"
  }
 },
 "nbformat": 4,
 "nbformat_minor": 2
}
