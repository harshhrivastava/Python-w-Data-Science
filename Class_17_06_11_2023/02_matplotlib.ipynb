{
 "cells": [
  {
   "cell_type": "markdown",
   "metadata": {},
   "source": [
    "### Matplotlib Library\n",
    "\n",
    "We use the matplotlib library for creating visualization from data."
   ]
  },
  {
   "cell_type": "code",
   "execution_count": null,
   "metadata": {},
   "outputs": [],
   "source": [
    "import numpy as np\n",
    "import matplotlib.pyplot as plt\n",
    "\n",
    "# For creating a sin wave, we need to create a range of values\n",
    "# from 0 to 2*pi with a step of 0.1\n",
    "t = np.linspace(0, 2*np.pi, 100)\n",
    "x = np.sin(t)\n",
    "y = np.cos(t)\n",
    "\n",
    "# Plotting the sin wave\n",
    "plt.plot(t, x, label='sin')\n",
    "plt.xlabel('t')\n",
    "plt.ylabel('sin(t)')\n",
    "plt.title('Sin wave')\n",
    "plt.legend()\n",
    "plt.show()\n",
    "\n",
    "# Plotting the cos wave\n",
    "plt.plot(t, y, label='cos')\n",
    "plt.xlabel('t')\n",
    "plt.ylabel('cos(t)')\n",
    "plt.title('Cos wave')\n",
    "plt.legend()\n",
    "plt.show()\n",
    "\n",
    "# If we want, we can even customize the marker settings\n",
    "plt.plot(t, x, label='sin', marker='o', markerfacecolor='red', markersize=5, markeredgecolor='black')"
   ]
  }
 ],
 "metadata": {
  "kernelspec": {
   "display_name": "base",
   "language": "python",
   "name": "python3"
  },
  "language_info": {
   "codemirror_mode": {
    "name": "ipython",
    "version": 3
   },
   "file_extension": ".py",
   "mimetype": "text/x-python",
   "name": "python",
   "nbconvert_exporter": "python",
   "pygments_lexer": "ipython3",
   "version": "3.11.5"
  }
 },
 "nbformat": 4,
 "nbformat_minor": 2
}
