{
 "cells": [
  {
   "cell_type": "code",
   "execution_count": null,
   "metadata": {},
   "outputs": [],
   "source": [
    "import numpy as np\n",
    "\n",
    "x = np.array([[1, 2, 3], [4, 5, 6]])\n",
    "\n",
    "# If we want to perform filtering in a numpy array,\n",
    "# we can just write it as we would write a mathematical expression.\n",
    "# The following will give us a boolean array of the same shape as x.\n",
    "print(x % 2 == 0)\n",
    "\n",
    "# We can use this boolean array to filter out the elements of x\n",
    "# that satisfy the condition. The shape won't be the same as x.\n",
    "print(x[x % 2 == 0])\n",
    "\n",
    "x = np.random.randint(-2, 3, (5, 5))\n",
    "print(x)\n",
    "\n",
    "# If we want to apply 2 or more conditions, we can use the bitwise operators\n",
    "# &, |, ~, ^, etc. The following will give us a boolean array of the same shape as x.\n",
    "print((x > 0) & (x % 2 == 0))\n",
    "print((x > 0) | (x % 2 == 0))\n",
    "\n",
    "# For indexing, we can pass down row and column indices.\n",
    "print(x[0, 0])\n",
    "print(x[0:3, 0:3])\n",
    "\n",
    "# For indexing random rows or columns, which have no pattern,\n",
    "# we can pass down the indices as a list.\n",
    "print(x[[0, 2, 3], [0, 1, 3]])\n",
    "\n",
    "# If we want to sort the elements of a numpy array,\n",
    "# we can use the sort method.\n",
    "# It will sort the array in place.\n",
    "# By default, it will sort the array in ascending order, row-wise.\n",
    "x.sort()\n",
    "print(x)\n",
    "x.sort(axis=0)\n",
    "print(x)\n",
    "\n",
    "# To flatten a numpy array, we can use the flatten method.\n",
    "# It will return a copy of the array.\n",
    "y = x.copy()\n",
    "y = y.flatten()\n",
    "print(y)\n",
    "\n",
    "# To get the index of the maximum\n",
    "# or minimum element of a numpy array,\n",
    "# we can use the argmax or argmin method.\n",
    "print(x.argmax())\n",
    "print(x.argmin())"
   ]
  }
 ],
 "metadata": {
  "kernelspec": {
   "display_name": "base",
   "language": "python",
   "name": "python3"
  },
  "language_info": {
   "codemirror_mode": {
    "name": "ipython",
    "version": 3
   },
   "file_extension": ".py",
   "mimetype": "text/x-python",
   "name": "python",
   "nbconvert_exporter": "python",
   "pygments_lexer": "ipython3",
   "version": "3.11.5"
  }
 },
 "nbformat": 4,
 "nbformat_minor": 2
}
