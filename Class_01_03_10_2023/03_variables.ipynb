{
 "cells": [
  {
   "cell_type": "markdown",
   "metadata": {},
   "source": [
    "### Shallow and Deep Copy in Python\n",
    "- When we use the copy() method on any object, it copies the value and creates a new instance in the memory. It is also known as the shallow copy.\n",
    "- When we just assign any variable with any other variable of list type, it copies the address of the variable instead of copying the value. It is also known as deep copy."
   ]
  },
  {
   "cell_type": "code",
   "execution_count": null,
   "metadata": {},
   "outputs": [],
   "source": [
    "a = [1, 2, 3]\n",
    "b = a # Deep Copy\n",
    "c = a.copy() # Shallow Copy\n",
    "\n",
    "# Checking whether the address is same\n",
    "print(a is b) # Same Memory Location\n",
    "print(b is c) # Different Memory Locations\n",
    "print(c is a) # Different Memory Locations"
   ]
  }
 ],
 "metadata": {
  "kernelspec": {
   "display_name": "base",
   "language": "python",
   "name": "python3"
  },
  "language_info": {
   "codemirror_mode": {
    "name": "ipython",
    "version": 3
   },
   "file_extension": ".py",
   "mimetype": "text/x-python",
   "name": "python",
   "nbconvert_exporter": "python",
   "pygments_lexer": "ipython3",
   "version": "3.11.4"
  },
  "orig_nbformat": 4
 },
 "nbformat": 4,
 "nbformat_minor": 2
}
