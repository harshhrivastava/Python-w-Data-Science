{
 "cells": [
  {
   "cell_type": "markdown",
   "metadata": {},
   "source": [
    "### Operators in Python\n",
    "- arithmetic operators\n",
    "- assignment operators\n",
    "- comparison operators\n",
    "- logical operators\n",
    "- identity operators\n",
    "- member operators\n",
    "- bitwise operators"
   ]
  },
  {
   "cell_type": "code",
   "execution_count": 7,
   "metadata": {},
   "outputs": [],
   "source": [
    "arithmetic = 1 + 2 * 10\n",
    "# + Addition, - Subtraction, * Multiplication, / Division,\n",
    "# (//) Floor Division, % Mod, ** Exponentiation.\n",
    "assignment = 10\n",
    "# Shorthand Notation\n",
    "comparison = 10 > 100\n",
    "# > Greater Than, >= Greater Than Equal To,\n",
    "# == Equal To, != Not Equal To,\n",
    "# <= Less Than Equal To, < Less Than, Chaining\n",
    "logical = True and False\n",
    "# &&/and Logical And, ||/or Logical Or, !/not Logical Not\n",
    "\n",
    "anyVariable = \"Any Random Value\"\n",
    "anyOtherVariable = anyVariable\n",
    "\n",
    "identity = anyVariable is anyOtherVariable\n",
    "membership = \"Value\" in anyVariable"
   ]
  }
 ],
 "metadata": {
  "kernelspec": {
   "display_name": "base",
   "language": "python",
   "name": "python3"
  },
  "language_info": {
   "codemirror_mode": {
    "name": "ipython",
    "version": 3
   },
   "file_extension": ".py",
   "mimetype": "text/x-python",
   "name": "python",
   "nbconvert_exporter": "python",
   "pygments_lexer": "ipython3",
   "version": "3.11.4"
  },
  "orig_nbformat": 4
 },
 "nbformat": 4,
 "nbformat_minor": 2
}
