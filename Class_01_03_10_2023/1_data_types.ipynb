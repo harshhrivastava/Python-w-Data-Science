{
 "cells": [
  {
   "cell_type": "markdown",
   "metadata": {},
   "source": [
    "### Data Types in Python\n",
    "- int\n",
    "- float\n",
    "- bool\n",
    "- str (imp)\n",
    "- Nonetype\n",
    "- list (imp)\n",
    "- tuple\n",
    "- set\n",
    "- dict (imp)"
   ]
  },
  {
   "cell_type": "code",
   "execution_count": 1,
   "metadata": {},
   "outputs": [],
   "source": [
    "intObj = 1\n",
    "floatObj = 1.0\n",
    "boolObj = True\n",
    "strObj = \"string\"\n",
    "NonetypeObj = None\n",
    "listObj = [1, \"b\"]\n",
    "tupleObj = (1, \"b\")\n",
    "setObj = {1, \"b\"}\n",
    "dictObj = {\"a\" : 1, 2 : \"b\"}"
   ]
  }
 ],
 "metadata": {
  "kernelspec": {
   "display_name": "base",
   "language": "python",
   "name": "python3"
  },
  "language_info": {
   "codemirror_mode": {
    "name": "ipython",
    "version": 3
   },
   "file_extension": ".py",
   "mimetype": "text/x-python",
   "name": "python",
   "nbconvert_exporter": "python",
   "pygments_lexer": "ipython3",
   "version": "3.11.4"
  },
  "orig_nbformat": 4
 },
 "nbformat": 4,
 "nbformat_minor": 2
}
